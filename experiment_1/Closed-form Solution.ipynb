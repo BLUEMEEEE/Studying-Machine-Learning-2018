{
 "cells": [
  {
   "cell_type": "code",
   "execution_count": 1,
   "metadata": {},
   "outputs": [],
   "source": [
    "import requests\n",
    "\n",
    "r = requests.get(\"https://www.csie.ntu.edu.tw/~cjlin/libsvmtools/datasets/regression/housing_scale\")# 获取数据集"
   ]
  },
  {
   "cell_type": "code",
   "execution_count": 2,
   "metadata": {},
   "outputs": [],
   "source": [
    "from io import BytesIO\n",
    "from sklearn.datasets import load_svmlight_file\n",
    "\n",
    "X, y = load_svmlight_file(BytesIO(r.content), n_features=14)# 读取实验数据\n",
    "X = X.toarray()# 转换成arry"
   ]
  },
  {
   "cell_type": "code",
   "execution_count": 3,
   "metadata": {},
   "outputs": [],
   "source": [
    "import numpy\n",
    "\n",
    "n_samples, n_features = X.shape# 计算有多少个samples和feature\n",
    "X = numpy.column_stack((X, numpy.ones((n_samples, 1))))# 再加上一列\n",
    "y = y.reshape((-1, 1))# 将y转置，换成一列的"
   ]
  },
  {
   "cell_type": "code",
   "execution_count": 4,
   "metadata": {},
   "outputs": [],
   "source": [
    "from sklearn.model_selection import train_test_split\n",
    "\n",
    "X_train, X_val, y_train, y_val = train_test_split(X, y, test_size=0.5)# 切割训练集和测试集"
   ]
  },
  {
   "cell_type": "code",
   "execution_count": 5,
   "metadata": {},
   "outputs": [],
   "source": [
    "losses_train = []\n",
    "losses_val = []"
   ]
  },
  {
   "cell_type": "code",
   "execution_count": 6,
   "metadata": {},
   "outputs": [],
   "source": [
    "# 参数初始化\n",
    "w = numpy.zeros((n_features + 1, 1))  # 全初始化为0\n",
    "# w = numpy.random.random((n_features + 1, 1))  # 随机初始化\n",
    "# w = numpy.random.normal(1, 1, size=(n_features + 1, 1))  # 初始化为正态分布"
   ]
  },
  {
   "cell_type": "code",
   "execution_count": 7,
   "metadata": {},
   "outputs": [],
   "source": [
    "from numpy import *\n",
    "# 更新w\n",
    "a=numpy.dot(X_train.transpose(),X_train)\n",
    "b=numpy.dot(linalg.pinv(a),X_train.transpose())\n",
    "w=numpy.dot(b,y_train)"
   ]
  },
  {
   "cell_type": "code",
   "execution_count": 8,
   "metadata": {},
   "outputs": [
    {
     "name": "stdout",
     "output_type": "stream",
     "text": [
      "loss_train:\n",
      "2.848313476063209\n",
      "loss_val:\n",
      "3.621767882916129\n"
     ]
    }
   ],
   "source": [
    "Y_predict = numpy.dot(X_train, w)  # predict under the Xtrain set\n",
    "loss_train = numpy.average(numpy.abs(Y_predict - y_train))  # calculate the absolute differences\n",
    "\n",
    "Y_predict = numpy.dot(X_val, w)  # predict under the validation set\n",
    "loss_val = numpy.average(numpy.abs(Y_predict - y_val))  # calculate the absolute differences\n",
    "\n",
    "print(\"loss_train:\");\n",
    "print(loss_train)\n",
    "print(\"loss_val:\")\n",
    "print(loss_val)"
   ]
  }
 ],
 "metadata": {
  "kernelspec": {
   "display_name": "Python 3",
   "language": "python",
   "name": "python3"
  },
  "language_info": {
   "codemirror_mode": {
    "name": "ipython",
    "version": 3
   },
   "file_extension": ".py",
   "mimetype": "text/x-python",
   "name": "python",
   "nbconvert_exporter": "python",
   "pygments_lexer": "ipython3",
   "version": "3.7.0"
  }
 },
 "nbformat": 4,
 "nbformat_minor": 2
}
