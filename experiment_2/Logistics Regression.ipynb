{
 "cells": [
  {
   "cell_type": "code",
   "execution_count": 1,
   "metadata": {},
   "outputs": [],
   "source": [
    "import requests\n",
    "\n",
    "r_train = requests.get(\"https://www.csie.ntu.edu.tw/~cjlin/libsvmtools/datasets/binary/a9a\")# 获取数据集\n",
    "r_val=requests.get(\"https://www.csie.ntu.edu.tw/~cjlin/libsvmtools/datasets/binary/a9a.t\")# 获取数据集"
   ]
  },
  {
   "cell_type": "code",
   "execution_count": 2,
   "metadata": {},
   "outputs": [],
   "source": [
    "from io import BytesIO\n",
    "from sklearn.datasets import load_svmlight_file\n",
    "\n",
    "n_features=123\n",
    "\n",
    "X_train, y_train = load_svmlight_file(BytesIO(r_train.content), n_features)# 读取实验数据\n",
    "X_train = X_train.toarray()# 转换成arry\n",
    "\n",
    "X_val, y_val = load_svmlight_file(BytesIO(r_val.content), n_features)# 读取实验数据\n",
    "X_val = X_val.toarray()# 转换成arry"
   ]
  },
  {
   "cell_type": "code",
   "execution_count": 3,
   "metadata": {},
   "outputs": [],
   "source": [
    "import numpy\n",
    "\n",
    "n_train_samples, n_train_features = X_train.shape# 计算有多少个samples和feature\n",
    "X_train = numpy.column_stack((X_train, numpy.ones((n_train_samples, 1))))# 再加上一列\n",
    "y_train = y_train.reshape((-1, 1))# 将y转置，换成一列的\n",
    "n_val_samples, n_val_features = X_val.shape# 计算有多少个samples和feature\n",
    "X_val = numpy.column_stack((X_val, numpy.ones((n_val_samples, 1))))# 再加上一列\n",
    "y_val = y_val.reshape((-1, 1))# 将y转置，换成一列的\n",
    "\n",
    "#将结果变为1和0\n",
    "for i in range(y_train.shape[0]):\n",
    "    y_train[i][0]=(y_train[i][0]+1)/2\n",
    "\n",
    "for i in range(y_val.shape[0]):\n",
    "    y_val[i][0]=(y_val[i][0]+1)/2\n",
    "    \n",
    "# print(X_train)\n",
    "# print(y_train)\n",
    "# print(X_val)\n",
    "# print(y_val)"
   ]
  },
  {
   "cell_type": "code",
   "execution_count": 4,
   "metadata": {},
   "outputs": [],
   "source": [
    "learning_rate = 0.01\n",
    "max_epoch = 300\n",
    "batch_size=1000\n",
    "\n",
    "losses_train = []\n",
    "losses_val = []"
   ]
  },
  {
   "cell_type": "code",
   "execution_count": 5,
   "metadata": {},
   "outputs": [],
   "source": [
    "# 不同的初始化参数的方式# 产生的w为n_features+1行，1列的列向量\n",
    "#w = numpy.zeros((n_features + 1, 1))  # initialize with zeros\n",
    "w = numpy.random.random((n_features + 1, 1))  # initialize with random numbers\n",
    "# w = numpy.random.normal(1, 1, size=(n_features + 1, 1))  # initialize with zero normal distribution\n",
    "# print(w)"
   ]
  },
  {
   "cell_type": "code",
   "execution_count": 6,
   "metadata": {},
   "outputs": [],
   "source": [
    "# Sigmoid函数\n",
    "def sigmoid(z):\n",
    "    return 1/(1+numpy.exp(-z))"
   ]
  },
  {
   "cell_type": "code",
   "execution_count": 7,
   "metadata": {},
   "outputs": [],
   "source": [
    "#随机产生batch的函数\n",
    "def sample(X, y, batch_size):\n",
    "    batch=random.sample(range(0,n_train_samples),batch_size) \n",
    "    random_row = numpy.random.randint(len(y) - batch_size)\n",
    "    \n",
    "    # get partial sample\n",
    "    X_batch = X[batch[0]]\n",
    "    y_batch = y[batch[0]]\n",
    "    random_row += 1\n",
    "    for i in range(batch_size - 1):\n",
    "        X_batch = numpy.vstack((X_batch,X[batch[i]]))\n",
    "        y_batch = numpy.vstack((y_batch,y[batch[i]]))\n",
    "    \n",
    "    return X_batch, y_batch"
   ]
  },
  {
   "cell_type": "code",
   "execution_count": 8,
   "metadata": {},
   "outputs": [
    {
     "name": "stdout",
     "output_type": "stream",
     "text": [
      "losses_val:\n",
      " [array([4.91479352]), array([4.87217386]), array([4.8309292]), array([4.78835899]), array([4.74611954]), array([4.70541789]), array([4.66372672]), array([4.6227828]), array([4.580065]), array([4.53914806]), array([4.49806506]), array([4.45716629]), array([4.41590221]), array([4.374936]), array([4.3333367]), array([4.2918333]), array([4.24840842]), array([4.20850085]), array([4.16813269]), array([4.12682446]), array([4.08618139]), array([4.0448978]), array([4.00421339]), array([3.96290839]), array([3.9203523]), array([3.87931951]), array([3.83926238]), array([3.7977526]), array([3.75684068]), array([3.71547534]), array([3.67382134]), array([3.63163209]), array([3.5915533]), array([3.55209996]), array([3.51178981]), array([3.46979313]), array([3.42969859]), array([3.38804213]), array([3.34741986]), array([3.30781841]), array([3.2676214]), array([3.22701482]), array([3.18748923]), array([3.14732685]), array([3.10681689]), array([3.06663827]), array([3.0283422]), array([2.99042047]), array([2.95142555]), array([2.9141371]), array([2.87500269]), array([2.83550894]), array([2.79665875]), array([2.75840365]), array([2.72150327]), array([2.68304336]), array([2.64555474]), array([2.60781117]), array([2.57103498]), array([2.53351208]), array([2.49704505]), array([2.45940426]), array([2.42281661]), array([2.38612943]), array([2.35088452]), array([2.31677123]), array([2.28206951]), array([2.24789032]), array([2.21328844]), array([2.17837855]), array([2.14482556]), array([2.11247012]), array([2.07855264]), array([2.04539323]), array([2.01248432]), array([1.97976294]), array([1.94829944]), array([1.91628491]), array([1.88582775]), array([1.85478863]), array([1.82452509]), array([1.79471361]), array([1.76471475]), array([1.73688892]), array([1.70863558]), array([1.6805438]), array([1.65233399]), array([1.62536195]), array([1.59836842]), array([1.57244958]), array([1.54701203]), array([1.52168981]), array([1.49719019]), array([1.47366169]), array([1.44981173]), array([1.42792964]), array([1.40567776]), array([1.38266661]), array([1.36015522]), array([1.33781857]), array([1.31717262]), array([1.29704018]), array([1.27764686]), array([1.25814308]), array([1.2382847]), array([1.22002887]), array([1.20144899]), array([1.18357039]), array([1.1659244]), array([1.14962169]), array([1.13298035]), array([1.11744795]), array([1.10112228]), array([1.08580627]), array([1.07092993]), array([1.05678]), array([1.04320417]), array([1.02991744]), array([1.0165493]), array([1.00333932]), array([0.991309]), array([0.97893281]), array([0.96718272]), array([0.9546198]), array([0.94384851]), array([0.93261606]), array([0.92109013]), array([0.91083334]), array([0.90045524]), array([0.89068065]), array([0.88020498]), array([0.87074039]), array([0.8615455]), array([0.85317757]), array([0.8449432]), array([0.83652339]), array([0.82834734]), array([0.81991804]), array([0.81237843]), array([0.8051027]), array([0.7981623]), array([0.79105711]), array([0.78368268]), array([0.77685579]), array([0.77046218]), array([0.76382867]), array([0.75737745]), array([0.75176467]), array([0.74540111]), array([0.73971926]), array([0.7344793]), array([0.72895402]), array([0.72393923]), array([0.71881188]), array([0.71447652]), array([0.70946519]), array([0.70508567]), array([0.70054147]), array([0.69603708]), array([0.69165967]), array([0.68787736]), array([0.68392926]), array([0.68036612]), array([0.67675667]), array([0.67334008]), array([0.66987547]), array([0.66629051]), array([0.66279461]), array([0.65939007]), array([0.65628019]), array([0.6533908]), array([0.65065479]), array([0.64790497]), array([0.64498468]), array([0.64233429]), array([0.63944253]), array([0.63672566]), array([0.63390971]), array([0.63139855]), array([0.62901738]), array([0.62672914]), array([0.62437625]), array([0.62234541]), array([0.61984463]), array([0.61758043]), array([0.61543525]), array([0.6133296]), array([0.61133705]), array([0.60925988]), array([0.60729768]), array([0.60576963]), array([0.60405983]), array([0.60246513]), array([0.60062732]), array([0.59860373]), array([0.59710678]), array([0.59536001]), array([0.59375765]), array([0.59220474]), array([0.59057369]), array([0.58884151]), array([0.58726183]), array([0.58582589]), array([0.58433452]), array([0.58283052]), array([0.58161402]), array([0.58020458]), array([0.57901614]), array([0.57796815]), array([0.57675638]), array([0.57572875]), array([0.57467426]), array([0.57327813]), array([0.57217979]), array([0.57104908]), array([0.57006386]), array([0.5689855]), array([0.56790878]), array([0.56667144]), array([0.5656854]), array([0.56474068]), array([0.56367645]), array([0.56288179]), array([0.56191514]), array([0.5611181]), array([0.56005601]), array([0.55911558]), array([0.5582623]), array([0.55744255]), array([0.55659433]), array([0.55576446]), array([0.55485421]), array([0.55412047]), array([0.55331497]), array([0.55253869]), array([0.55188687]), array([0.55114089]), array([0.55047251]), array([0.54970785]), array([0.54914746]), array([0.54847211]), array([0.54790441]), array([0.5474026]), array([0.54685637]), array([0.5460849]), array([0.54542566]), array([0.54465796]), array([0.5441035]), array([0.54355107]), array([0.54296465]), array([0.54231655]), array([0.54175803]), array([0.54106201]), array([0.54048217]), array([0.53991661]), array([0.53935644]), array([0.53875144]), array([0.53819716]), array([0.53765408]), array([0.53718477]), array([0.53658646]), array([0.53604079]), array([0.53550644]), array([0.53502252]), array([0.53444994]), array([0.53399225]), array([0.53347479]), array([0.53297462]), array([0.53247141]), array([0.53203919]), array([0.53164463]), array([0.53126944]), array([0.5307617]), array([0.53037984]), array([0.53000025]), array([0.52957743]), array([0.52922855]), array([0.52876565]), array([0.52833382]), array([0.52791095]), array([0.52750257]), array([0.52714555]), array([0.52674913]), array([0.52637851]), array([0.52600283]), array([0.52555612]), array([0.52513897]), array([0.5247735]), array([0.52435944]), array([0.52397982]), array([0.5235684]), array([0.52313784]), array([0.52275944]), array([0.52240794]), array([0.52204838]), array([0.52167904]), array([0.52131551]), array([0.52093388]), array([0.52055645]), array([0.52024479])]\n"
     ]
    }
   ],
   "source": [
    "import random\n",
    "\n",
    "'''#oringin random method\n",
    "#batch=random.sample(range(0,n_train_samples),batch_size) \n",
    "# print(\"batch:\",batch)\n",
    "# gradient=numpy.zeros((n_features + 1, 1))\n",
    "'''\n",
    "\n",
    "for epoch in range(max_epoch):\n",
    "    X_batch, y_batch = sample(X_train, y_train, batch_size)# 取batch\n",
    "    G=numpy.dot(X_batch.transpose(),(sigmoid(numpy.dot(X_batch,w))-y_batch))/batch_size\n",
    "    w=w-learning_rate*G\n",
    "    '''#oringinal method\n",
    "    for i in batch:\n",
    "        z_train=numpy.dot(X_train[i],w)\n",
    "        diff=sigmoid(numpy.dot(X_train[i],w))-y_train[i]\n",
    "        gradient+=diff*X_train[i].reshape(-1,1)\n",
    "    w=w-learning_rate*gradient/batch_size\n",
    "    '''\n",
    "    \n",
    "    # 计算测试集的loss\n",
    "    z_predict = numpy.dot(X_val, w)\n",
    "    loss_val=-(numpy.dot(y_val.transpose(),numpy.log(sigmoid(z_predict)))+numpy.dot((1-y_val.transpose()),numpy.log(1-sigmoid(z_predict))))/y_val.shape[0]\n",
    "    losses_val.append(loss_val[0])\n",
    "    \n",
    "print(\"losses_val:\\n\",losses_val)"
   ]
  },
  {
   "cell_type": "code",
   "execution_count": 9,
   "metadata": {},
   "outputs": [
    {
     "data": {
      "text/plain": [
       "Text(0.5,1,'The graph of absolute diff value varing with the number of iterations')"
      ]
     },
     "execution_count": 9,
     "metadata": {},
     "output_type": "execute_result"
    },
    {
     "data": {
      "image/png": "[encoded data removed]",
      "text/plain": [
       "<Figure size 1296x432 with 1 Axes>"
      ]
     },
     "metadata": {
      "needs_background": "light"
     },
     "output_type": "display_data"
    }
   ],
   "source": [
    "%matplotlib inline\n",
    "\n",
    "import matplotlib.pyplot as plt\n",
    "\n",
    "plt.figure(figsize=(18, 6))\n",
    "\n",
    "plt.plot(losses_val, \"-\", color=\"b\", label=\"validation loss\")\n",
    "plt.xlabel(\"epoch\")\n",
    "plt.ylabel(\"loss\")\n",
    "plt.legend()\n",
    "plt.title(\"The graph of absolute diff value varing with the number of iterations\")"
   ]
  }
 ],
 "metadata": {
  "kernelspec": {
   "display_name": "Python 3",
   "language": "python",
   "name": "python3"
  },
  "language_info": {
   "codemirror_mode": {
    "name": "ipython",
    "version": 3
   },
   "file_extension": ".py",
   "mimetype": "text/x-python",
   "name": "python",
   "nbconvert_exporter": "python",
   "pygments_lexer": "ipython3",
   "version": "3.7.0"
  }
 },
 "nbformat": 4,
 "nbformat_minor": 2
}
